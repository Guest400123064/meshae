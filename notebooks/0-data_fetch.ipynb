{
 "cells": [
  {
   "cell_type": "code",
   "execution_count": 10,
   "metadata": {},
   "outputs": [],
   "source": [
    "import json\n",
    "\n",
    "import numpy as np\n",
    "import torch\n",
    "from einops import rearrange\n",
    "from torch.utils.data import DataLoader\n",
    "\n",
    "from meshae.config import MeshAEModelConfig\n",
    "from meshae.dataset import MeshAEDataset, MeshAECollateFn\n",
    "from meshae.model import MeshAEModel\n",
    "from meshae.utils import quantize, tensor_describe"
   ]
  },
  {
   "cell_type": "code",
   "execution_count": 2,
   "metadata": {},
   "outputs": [],
   "source": [
    "with open(\"../configs/default/config.json\") as fin:\n",
    "    config = MeshAEModelConfig.from_dict(json.load(fin))\n",
    "\n",
    "state_dict = torch.load(\"../checkpoints/default/ckpt-01-0100.pt\").get(\"model_state_dict\")\n",
    "model = MeshAEModel(**config.to_dict())\n",
    "model.load_state_dict(state_dict)\n",
    "# model = model.to(\"cuda\")\n",
    "\n",
    "collate_fn = MeshAECollateFn()\n",
    "dataset = MeshAEDataset(\"../data/objaverse/train\", sort_by=\"zyx\")\n",
    "dataset.objects = dataset.objects[350 * 8:550*8]\n",
    "dataloader = DataLoader(\n",
    "    dataset,\n",
    "    batch_size=8,\n",
    "    shuffle=False,\n",
    "    collate_fn=collate_fn,\n",
    "    pin_memory=True,\n",
    "    num_workers=1,\n",
    ")"
   ]
  },
  {
   "cell_type": "code",
   "execution_count": null,
   "metadata": {},
   "outputs": [
    {
     "name": "stdout",
     "output_type": "stream",
     "text": [
      "0 tensor(3.9983) tensor(3.9872) tensor(0.0111)\n"
     ]
    }
   ],
   "source": [
    "with torch.no_grad():\n",
    "    for i, batch in enumerate(dataloader):\n",
    "        # batch = {k: v.to(\"cuda\") for k, v in batch.items()}\n",
    "        loss, (recon_loss, commit_loss), logits, coords = model(**batch)\n",
    "        print(i, loss, recon_loss, commit_loss)\n",
    "        break"
   ]
  },
  {
   "cell_type": "code",
   "execution_count": 13,
   "metadata": {},
   "outputs": [
    {
     "data": {
      "text/plain": [
       "{'avg': -3.4784083254635334e-05,\n",
       " 'std': 0.03655720874667168,\n",
       " 'min': -0.1773606538772583,\n",
       " 'max': 0.19272103905677795,\n",
       " 'p25': -0.02468550205230713,\n",
       " 'p50': -2.3601360226166435e-05,\n",
       " 'p75': 0.024616852402687073,\n",
       " 'norm': 56.149593353271484,\n",
       " 'numel': 2359296,\n",
       " 'numel_nonzero': 2359296,\n",
       " 'numel_nonzero_pct': 100.0}"
      ]
     },
     "execution_count": 13,
     "metadata": {},
     "output_type": "execute_result"
    }
   ],
   "source": [
    "tensor_describe(model.decoder.proj_refine[2].weight)"
   ]
  },
  {
   "cell_type": "code",
   "execution_count": 5,
   "metadata": {},
   "outputs": [],
   "source": [
    "qogits = rearrange(logits, \"b ... q -> b q (...)\").log_softmax(1)\n",
    "qoords = rearrange(\n",
    "    quantize(coords, high_low=config.feature_configs[\"vrtx\"].high_low, num_bins=64),\n",
    "    \"b ... -> b 1 (...)\",\n",
    ")\n",
    "qoords = torch.zeros_like(qogits).scatter(1, qoords, 1.0)"
   ]
  },
  {
   "cell_type": "code",
   "execution_count": null,
   "metadata": {},
   "outputs": [],
   "source": []
  }
 ],
 "metadata": {
  "kernelspec": {
   "display_name": ".venv",
   "language": "python",
   "name": "python3"
  },
  "language_info": {
   "codemirror_mode": {
    "name": "ipython",
    "version": 3
   },
   "file_extension": ".py",
   "mimetype": "text/x-python",
   "name": "python",
   "nbconvert_exporter": "python",
   "pygments_lexer": "ipython3",
   "version": "3.10.12"
  }
 },
 "nbformat": 4,
 "nbformat_minor": 2
}
